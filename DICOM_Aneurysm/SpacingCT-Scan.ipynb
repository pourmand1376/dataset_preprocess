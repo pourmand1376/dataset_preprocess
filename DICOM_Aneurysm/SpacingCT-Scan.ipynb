{
 "cells": [
  {
   "cell_type": "code",
   "execution_count": 1,
   "id": "f11f4eef-86b5-4a42-b8c7-d91e344225ba",
   "metadata": {},
   "outputs": [],
   "source": [
    "import pydicom"
   ]
  },
  {
   "cell_type": "code",
   "execution_count": 2,
   "id": "7e72cdcb-3ca7-4e1d-8983-48ecd5c6e315",
   "metadata": {},
   "outputs": [],
   "source": [
    "address = '/mnt/new_ssd/projects/Anevrism/Data/brain_cta/Split'"
   ]
  },
  {
   "cell_type": "code",
   "execution_count": 3,
   "id": "2b4131ee-a3b0-4044-b840-8833f76a9bc9",
   "metadata": {},
   "outputs": [
    {
     "name": "stdout",
     "output_type": "stream",
     "text": [
      "/mnt/new_ssd/projects/Anevrism/Data/brain_cta/Split\n"
     ]
    }
   ],
   "source": [
    "cd /mnt/new_ssd/projects/Anevrism/Data/brain_cta/Split"
   ]
  },
  {
   "cell_type": "code",
   "execution_count": 4,
   "id": "40b5edf2-b9c3-408d-8354-3a6f80a0aca6",
   "metadata": {},
   "outputs": [],
   "source": [
    "!find . -type f ! -name \"*.*\" > output.txt"
   ]
  },
  {
   "cell_type": "code",
   "execution_count": 4,
   "id": "21b11419-66b6-49a0-aca8-767272dae887",
   "metadata": {},
   "outputs": [],
   "source": [
    "import matplotlib.pyplot as plt\n",
    "from pathlib import Path\n",
    "thickness = []\n",
    "items = Path('output.txt').read_text().split('\\n')\n"
   ]
  },
  {
   "cell_type": "code",
   "execution_count": 6,
   "id": "4e41612f-9072-4315-9097-29d1bac199f8",
   "metadata": {},
   "outputs": [],
   "source": [
    "thickness = []\n",
    "error_count = 0\n",
    "not_available = 0\n",
    "for i,item in enumerate(items):\n",
    "    try:\n",
    "        dicom=pydicom.dcmread(item,stop_before_pixels=True)\n",
    "        if 'SliceThickness' in dicom:\n",
    "            thickness.append(float(dicom.SliceThickness))\n",
    "        else:\n",
    "            not_available += 1 \n",
    "    except:\n",
    "        error_count += 1"
   ]
  },
  {
   "cell_type": "code",
   "execution_count": 7,
   "id": "7fce56d1-335b-4066-bb62-d07d42b25c90",
   "metadata": {},
   "outputs": [
    {
     "data": {
      "text/plain": [
       "(array([1.43844e+05, 1.26830e+05, 2.67800e+03, 1.50139e+05, 7.20400e+03,\n",
       "        0.00000e+00, 2.50000e+01, 1.18030e+04, 0.00000e+00, 0.00000e+00,\n",
       "        2.33700e+03, 0.00000e+00, 2.15000e+02, 0.00000e+00, 6.00000e+01,\n",
       "        4.53000e+02, 0.00000e+00, 0.00000e+00, 0.00000e+00, 0.00000e+00,\n",
       "        0.00000e+00, 0.00000e+00, 4.00000e+00, 0.00000e+00, 0.00000e+00,\n",
       "        0.00000e+00, 0.00000e+00, 0.00000e+00, 0.00000e+00, 4.34000e+02]),\n",
       " array([ 0.        ,  0.66666667,  1.33333333,  2.        ,  2.66666667,\n",
       "         3.33333333,  4.        ,  4.66666667,  5.33333333,  6.        ,\n",
       "         6.66666667,  7.33333333,  8.        ,  8.66666667,  9.33333333,\n",
       "        10.        , 10.66666667, 11.33333333, 12.        , 12.66666667,\n",
       "        13.33333333, 14.        , 14.66666667, 15.33333333, 16.        ,\n",
       "        16.66666667, 17.33333333, 18.        , 18.66666667, 19.33333333,\n",
       "        20.        ]),\n",
       " <BarContainer object of 30 artists>)"
      ]
     },
     "execution_count": 7,
     "metadata": {},
     "output_type": "execute_result"
    },
    {
     "data": {
      "image/png": "[encoded data removed]",
      "text/plain": [
       "<Figure size 432x288 with 1 Axes>"
      ]
     },
     "metadata": {
      "needs_background": "light"
     },
     "output_type": "display_data"
    }
   ],
   "source": [
    "plt.hist(thickness,bins=30)"
   ]
  },
  {
   "cell_type": "code",
   "execution_count": 8,
   "id": "7c71801e-bc2a-4837-98b5-30ed646cbf68",
   "metadata": {},
   "outputs": [
    {
     "data": {
      "text/plain": [
       "20"
      ]
     },
     "execution_count": 8,
     "metadata": {},
     "output_type": "execute_result"
    }
   ],
   "source": [
    "error_count"
   ]
  },
  {
   "cell_type": "code",
   "execution_count": 9,
   "id": "4c160912-00bf-414b-8815-c9bfff1240c0",
   "metadata": {},
   "outputs": [
    {
     "data": {
      "text/plain": [
       "75109"
      ]
     },
     "execution_count": 9,
     "metadata": {},
     "output_type": "execute_result"
    }
   ],
   "source": [
    "not_available"
   ]
  },
  {
   "cell_type": "code",
   "execution_count": 10,
   "id": "120752b2-a6c7-4e2a-9259-ba715e80519c",
   "metadata": {},
   "outputs": [
    {
     "name": "stdout",
     "output_type": "stream",
     "text": [
      "available: 438239 not available:82896 errors:20\n"
     ]
    }
   ],
   "source": [
    "available = 0\n",
    "not_available = 0 \n",
    "error_count =0\n",
    "for i,item in enumerate(items):\n",
    "    try:\n",
    "        dicom=pydicom.dcmread(item,stop_before_pixels=True)\n",
    "        if 'SliceLocation' in dicom:\n",
    "            available += 1\n",
    "        else:\n",
    "            not_available += 1 \n",
    "    except:\n",
    "        error_count += 1\n",
    "print(f'available: {available} not available:{not_available} errors:{error_count}')"
   ]
  },
  {
   "cell_type": "code",
   "execution_count": 5,
   "id": "a24e7dda-b133-407b-90cd-24a8debd33cb",
   "metadata": {},
   "outputs": [
    {
     "name": "stdout",
     "output_type": "stream",
     "text": [
      "available: 446026 not available:75109 errors:20\n"
     ]
    }
   ],
   "source": [
    "available = 0\n",
    "not_available = 0 \n",
    "error_count =0\n",
    "for i,item in enumerate(items):\n",
    "    try:\n",
    "        dicom=pydicom.dcmread(item,stop_before_pixels=True)\n",
    "        if 'SliceLocation' in dicom or 'SliceThickness' in dicom:\n",
    "            available += 1\n",
    "        else:\n",
    "            not_available += 1 \n",
    "    except:\n",
    "        error_count += 1\n",
    "print(f'available: {available} not available:{not_available} errors:{error_count}')"
   ]
  },
  {
   "cell_type": "code",
   "execution_count": null,
   "id": "317e1b38-cbd0-4bfe-96d0-c42a7237ac56",
   "metadata": {},
   "outputs": [],
   "source": []
  }
 ],
 "metadata": {
  "kernelspec": {
   "display_name": "Python 3 (ipykernel)",
   "language": "python",
   "name": "python3"
  },
  "language_info": {
   "codemirror_mode": {
    "name": "ipython",
    "version": 3
   },
   "file_extension": ".py",
   "mimetype": "text/x-python",
   "name": "python",
   "nbconvert_exporter": "python",
   "pygments_lexer": "ipython3",
   "version": "3.9.12"
  }
 },
 "nbformat": 4,
 "nbformat_minor": 5
}
