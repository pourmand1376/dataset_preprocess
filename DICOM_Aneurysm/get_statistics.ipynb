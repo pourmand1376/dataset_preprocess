{
 "cells": [
  {
   "cell_type": "code",
   "execution_count": 22,
   "id": "338d557b-0d31-4140-bbf9-3a4a593f5ec2",
   "metadata": {},
   "outputs": [
    {
     "name": "stdout",
     "output_type": "stream",
     "text": [
      "/home/projects/Aneurysm/Data/brain_cta/output_folder/train/labels\n"
     ]
    }
   ],
   "source": [
    "cd /home/projects/Aneurysm/Data/brain_cta/output_folder/train/labels"
   ]
  },
  {
   "cell_type": "code",
   "execution_count": 23,
   "id": "98368e58-f007-4193-b9f0-5e9d7b1b95e7",
   "metadata": {},
   "outputs": [],
   "source": [
    "!pip install sh -Uqq\n",
    "!pip install pandas -Uqq\n",
    "!pip install matplotlib -Uqq"
   ]
  },
  {
   "cell_type": "code",
   "execution_count": 24,
   "id": "a8f7ab21-baf5-4e31-92e9-66f406d28f7e",
   "metadata": {},
   "outputs": [
    {
     "data": {
      "text/html": [
       "<div>\n",
       "<style scoped>\n",
       "    .dataframe tbody tr th:only-of-type {\n",
       "        vertical-align: middle;\n",
       "    }\n",
       "\n",
       "    .dataframe tbody tr th {\n",
       "        vertical-align: top;\n",
       "    }\n",
       "\n",
       "    .dataframe thead th {\n",
       "        text-align: right;\n",
       "    }\n",
       "</style>\n",
       "<table border=\"1\" class=\"dataframe\">\n",
       "  <thead>\n",
       "    <tr style=\"text-align: right;\">\n",
       "      <th></th>\n",
       "      <th>0</th>\n",
       "      <th>1</th>\n",
       "    </tr>\n",
       "  </thead>\n",
       "  <tbody>\n",
       "    <tr>\n",
       "      <th>0</th>\n",
       "      <td>1479676_DICOM_20170813_122224</td>\n",
       "      <td>00000210.txt</td>\n",
       "    </tr>\n",
       "    <tr>\n",
       "      <th>1</th>\n",
       "      <td>1479676_DICOM_20170813_122224</td>\n",
       "      <td>00000211.txt</td>\n",
       "    </tr>\n",
       "    <tr>\n",
       "      <th>2</th>\n",
       "      <td>1479676_DICOM_20170813_122224</td>\n",
       "      <td>00000212.txt</td>\n",
       "    </tr>\n",
       "    <tr>\n",
       "      <th>3</th>\n",
       "      <td>1479676_DICOM_20170813_122224</td>\n",
       "      <td>00000213.txt</td>\n",
       "    </tr>\n",
       "    <tr>\n",
       "      <th>4</th>\n",
       "      <td>1479676_DICOM_20170813_122224</td>\n",
       "      <td>00000214.txt</td>\n",
       "    </tr>\n",
       "    <tr>\n",
       "      <th>...</th>\n",
       "      <td>...</td>\n",
       "      <td>...</td>\n",
       "    </tr>\n",
       "    <tr>\n",
       "      <th>2181</th>\n",
       "      <td>516543_DICOM_20190301_181227</td>\n",
       "      <td>00000359.txt</td>\n",
       "    </tr>\n",
       "    <tr>\n",
       "      <th>2182</th>\n",
       "      <td>516543_DICOM_20190301_181227</td>\n",
       "      <td>00000360.txt</td>\n",
       "    </tr>\n",
       "    <tr>\n",
       "      <th>2183</th>\n",
       "      <td>516543_DICOM_20190301_181227</td>\n",
       "      <td>00000361.txt</td>\n",
       "    </tr>\n",
       "    <tr>\n",
       "      <th>2184</th>\n",
       "      <td>516543_DICOM_20190301_181227</td>\n",
       "      <td>00000362.txt</td>\n",
       "    </tr>\n",
       "    <tr>\n",
       "      <th>2185</th>\n",
       "      <td></td>\n",
       "      <td></td>\n",
       "    </tr>\n",
       "  </tbody>\n",
       "</table>\n",
       "<p>2186 rows × 2 columns</p>\n",
       "</div>"
      ],
      "text/plain": [
       "                                  0             1\n",
       "0     1479676_DICOM_20170813_122224  00000210.txt\n",
       "1     1479676_DICOM_20170813_122224  00000211.txt\n",
       "2     1479676_DICOM_20170813_122224  00000212.txt\n",
       "3     1479676_DICOM_20170813_122224  00000213.txt\n",
       "4     1479676_DICOM_20170813_122224  00000214.txt\n",
       "...                             ...           ...\n",
       "2181   516543_DICOM_20190301_181227  00000359.txt\n",
       "2182   516543_DICOM_20190301_181227  00000360.txt\n",
       "2183   516543_DICOM_20190301_181227  00000361.txt\n",
       "2184   516543_DICOM_20190301_181227  00000362.txt\n",
       "2185                                             \n",
       "\n",
       "[2186 rows x 2 columns]"
      ]
     },
     "execution_count": 24,
     "metadata": {},
     "output_type": "execute_result"
    }
   ],
   "source": [
    "import sh\n",
    "import pandas as pd\n",
    "rows = sh.ls().split('\\n')\n",
    "data = [(\"_\".join(row.split('_')[:-1]), row.split('_')[-1]) for row in rows]\n",
    "files=pd.DataFrame(data)\n",
    "files"
   ]
  },
  {
   "cell_type": "code",
   "execution_count": 25,
   "id": "b8b31b79-2f76-4e6a-aeff-2315969ce8ea",
   "metadata": {},
   "outputs": [
    {
     "data": {
      "text/plain": [
       "0\n",
       "                                  1\n",
       "1479676_DICOM_20170813_122224    24\n",
       "1513209_DICOM_20191119_230211    11\n",
       "1625662_DICOM_20191216_125714     8\n",
       "2006527_DICOM_20190502_213435     2\n",
       "                                 ..\n",
       "2625156_DICOM_20200306_124646    36\n",
       "2626462_DICOM_20200313_115615    23\n",
       "2627606_DICOM_20200318_173838    27\n",
       "337325_DICOM_20190706_113904     14\n",
       "516543_DICOM_20190301_181227     30\n",
       "Length: 99, dtype: int64"
      ]
     },
     "execution_count": 25,
     "metadata": {},
     "output_type": "execute_result"
    }
   ],
   "source": [
    "files.groupby([0]).size()"
   ]
  },
  {
   "cell_type": "code",
   "execution_count": 26,
   "id": "e4c36ce6-6639-4120-aa31-835cd05d5ea5",
   "metadata": {},
   "outputs": [],
   "source": [
    "import matplotlib.pyplot as plt"
   ]
  },
  {
   "cell_type": "code",
   "execution_count": 29,
   "id": "24c41937-73a2-46bd-a866-611f1a149362",
   "metadata": {},
   "outputs": [
    {
     "data": {
      "text/plain": [
       "Text(0, 0.5, 'frequency percentage')"
      ]
     },
     "execution_count": 29,
     "metadata": {},
     "output_type": "execute_result"
    },
    {
     "data": {
      "image/png": "[encoded data removed]",
      "text/plain": [
       "<Figure size 432x288 with 1 Axes>"
      ]
     },
     "metadata": {
      "needs_background": "light"
     },
     "output_type": "display_data"
    }
   ],
   "source": [
    "plt.hist(files.groupby([0]).size().values,bins=10,density=True,)\n",
    "plt.xlabel('number of labeled images per patient')\n",
    "plt.ylabel('frequency percentage')\n",
    "# چه تعداد تصویر لیبل دار به ازای هر مریض داریم"
   ]
  },
  {
   "cell_type": "code",
   "execution_count": 30,
   "id": "2836d63a-666b-4a71-a9ac-72e6841d0dc5",
   "metadata": {},
   "outputs": [],
   "source": [
    "from pathlib import Path\n",
    "rows = sh.ls().split('\\n')\n",
    "width_array = []\n",
    "height_array = []\n",
    "size_array = []\n",
    "for row in rows:\n",
    "    path = Path(row)\n",
    "    if path.is_file():\n",
    "        width, height = Path(row).read_text().split(' ')[3:5]\n",
    "        width_array.append(float(width)*512)\n",
    "        height_array.append(float(height)*512)\n",
    "        size_array.append(float(width)*float(height)*512*512)"
   ]
  },
  {
   "cell_type": "code",
   "execution_count": 36,
   "id": "4e0b4e74-e1ef-40cb-a6da-4d7291ae40e4",
   "metadata": {},
   "outputs": [
    {
     "data": {
      "text/plain": [
       "(array([  8.,  83., 261., 501., 259., 230., 181., 271., 119.,  90.,  39.,\n",
       "         26.,  36.,  26.,  15.,   9.,  14.,   4.,   7.,   6.]),\n",
       " array([ 0.        ,  2.24999936,  4.49999872,  6.74999808,  8.99999744,\n",
       "        11.2499968 , 13.49999616, 15.74999552, 17.99999488, 20.24999424,\n",
       "        22.4999936 , 24.74999296, 26.99999232, 29.24999168, 31.49999104,\n",
       "        33.7499904 , 35.99998976, 38.24998912, 40.49998848, 42.74998784,\n",
       "        44.9999872 ]),\n",
       " <BarContainer object of 20 artists>)"
      ]
     },
     "execution_count": 36,
     "metadata": {},
     "output_type": "execute_result"
    },
    {
     "data": {
      "image/png": "[encoded data removed]",
      "text/plain": [
       "<Figure size 432x288 with 1 Axes>"
      ]
     },
     "metadata": {
      "needs_background": "light"
     },
     "output_type": "display_data"
    }
   ],
   "source": [
    "plt.hist(width_array,bins=20)\n",
    "# توزیع عرض ناحیه bbox"
   ]
  },
  {
   "cell_type": "code",
   "execution_count": 35,
   "id": "92d0ff86-1514-4e16-8e03-991a2a0408c5",
   "metadata": {},
   "outputs": [
    {
     "data": {
      "text/plain": [
       "(array([  5.,  84., 285., 292., 301., 250., 190., 234., 163.,  98.,  66.,\n",
       "         53.,  41.,  53.,  37.,  16.,   5.,   4.,   1.,   7.]),\n",
       " array([ 0.        ,  2.04999936,  4.09999872,  6.14999808,  8.19999744,\n",
       "        10.2499968 , 12.29999616, 14.34999552, 16.39999488, 18.44999424,\n",
       "        20.4999936 , 22.54999296, 24.59999232, 26.64999168, 28.69999104,\n",
       "        30.7499904 , 32.79998976, 34.84998912, 36.89998848, 38.94998784,\n",
       "        40.9999872 ]),\n",
       " <BarContainer object of 20 artists>)"
      ]
     },
     "execution_count": 35,
     "metadata": {},
     "output_type": "execute_result"
    },
    {
     "data": {
      "image/png": "[encoded data removed]",
      "text/plain": [
       "<Figure size 432x288 with 1 Axes>"
      ]
     },
     "metadata": {
      "needs_background": "light"
     },
     "output_type": "display_data"
    }
   ],
   "source": [
    "plt.hist(height_array,bins=20)\n",
    "# توزیع طول ناحیه bbox"
   ]
  },
  {
   "cell_type": "code",
   "execution_count": 34,
   "id": "e68373a3-05fd-4e24-bbe9-ab5135bec64b",
   "metadata": {},
   "outputs": [
    {
     "data": {
      "text/plain": [
       "(array([302., 393., 289., 193., 173., 142., 132., 108.,  99.,  59.,  34.,\n",
       "         36.,  40.,  20.,  22.,  13.,  20.,  13.,  13.,  13.,   3.,   8.,\n",
       "          3.,   7.,   7.,   4.,   6.,   2.,   3.,   3.,   4.,   2.,   3.,\n",
       "          4.,   3.,   2.,   2.,   2.,   1.,   2.]),\n",
       " array([   0.       ,   38.0000256,   76.0000512,  114.0000768,\n",
       "         152.0001024,  190.000128 ,  228.0001536,  266.0001792,\n",
       "         304.0002048,  342.0002304,  380.000256 ,  418.0002816,\n",
       "         456.0003072,  494.0003328,  532.0003584,  570.000384 ,\n",
       "         608.0004096,  646.0004352,  684.0004608,  722.0004864,\n",
       "         760.000512 ,  798.0005376,  836.0005632,  874.0005888,\n",
       "         912.0006144,  950.00064  ,  988.0006656, 1026.0006912,\n",
       "        1064.0007168, 1102.0007424, 1140.000768 , 1178.0007936,\n",
       "        1216.0008192, 1254.0008448, 1292.0008704, 1330.000896 ,\n",
       "        1368.0009216, 1406.0009472, 1444.0009728, 1482.0009984,\n",
       "        1520.001024 ]),\n",
       " <BarContainer object of 40 artists>)"
      ]
     },
     "execution_count": 34,
     "metadata": {},
     "output_type": "execute_result"
    },
    {
     "data": {
      "image/png": "[encoded data removed]",
      "text/plain": [
       "<Figure size 432x288 with 1 Axes>"
      ]
     },
     "metadata": {
      "needs_background": "light"
     },
     "output_type": "display_data"
    }
   ],
   "source": [
    "plt.hist(size_array,bins=40)\n",
    "# توزیع مساحت ناحیه bbox"
   ]
  },
  {
   "cell_type": "code",
   "execution_count": 37,
   "id": "aa763a04-09ed-47bc-9507-31a983589ef0",
   "metadata": {},
   "outputs": [
    {
     "name": "stdout",
     "output_type": "stream",
     "text": [
      "/home/projects/Aneurysm/Data/brain_cta/output_folder/train/images\n"
     ]
    }
   ],
   "source": [
    "cd /home/projects/Aneurysm/Data/brain_cta/output_folder/train/images"
   ]
  },
  {
   "cell_type": "code",
   "execution_count": 38,
   "id": "8544b3c9-8e01-4c59-a4b3-fc53d9ccab9a",
   "metadata": {},
   "outputs": [
    {
     "data": {
      "text/html": [
       "<div>\n",
       "<style scoped>\n",
       "    .dataframe tbody tr th:only-of-type {\n",
       "        vertical-align: middle;\n",
       "    }\n",
       "\n",
       "    .dataframe tbody tr th {\n",
       "        vertical-align: top;\n",
       "    }\n",
       "\n",
       "    .dataframe thead th {\n",
       "        text-align: right;\n",
       "    }\n",
       "</style>\n",
       "<table border=\"1\" class=\"dataframe\">\n",
       "  <thead>\n",
       "    <tr style=\"text-align: right;\">\n",
       "      <th></th>\n",
       "      <th>0</th>\n",
       "      <th>1</th>\n",
       "    </tr>\n",
       "  </thead>\n",
       "  <tbody>\n",
       "    <tr>\n",
       "      <th>0</th>\n",
       "      <td>1479676_DICOM_20170813_122224</td>\n",
       "      <td>00000003.png</td>\n",
       "    </tr>\n",
       "    <tr>\n",
       "      <th>1</th>\n",
       "      <td>1479676_DICOM_20170813_122224</td>\n",
       "      <td>00000004.png</td>\n",
       "    </tr>\n",
       "    <tr>\n",
       "      <th>2</th>\n",
       "      <td>1479676_DICOM_20170813_122224</td>\n",
       "      <td>00000005.png</td>\n",
       "    </tr>\n",
       "    <tr>\n",
       "      <th>3</th>\n",
       "      <td>1479676_DICOM_20170813_122224</td>\n",
       "      <td>00000006.png</td>\n",
       "    </tr>\n",
       "    <tr>\n",
       "      <th>4</th>\n",
       "      <td>1479676_DICOM_20170813_122224</td>\n",
       "      <td>00000007.png</td>\n",
       "    </tr>\n",
       "    <tr>\n",
       "      <th>...</th>\n",
       "      <td>...</td>\n",
       "      <td>...</td>\n",
       "    </tr>\n",
       "    <tr>\n",
       "      <th>251696</th>\n",
       "      <td>753267_DICOM_20190428_100750</td>\n",
       "      <td>00001087.png</td>\n",
       "    </tr>\n",
       "    <tr>\n",
       "      <th>251697</th>\n",
       "      <td>753267_DICOM_20190428_100750</td>\n",
       "      <td>00001088.png</td>\n",
       "    </tr>\n",
       "    <tr>\n",
       "      <th>251698</th>\n",
       "      <td>753267_DICOM_20190428_100750</td>\n",
       "      <td>00001089.png</td>\n",
       "    </tr>\n",
       "    <tr>\n",
       "      <th>251699</th>\n",
       "      <td>753267_DICOM_20190428_100750</td>\n",
       "      <td>00001090.png</td>\n",
       "    </tr>\n",
       "    <tr>\n",
       "      <th>251700</th>\n",
       "      <td></td>\n",
       "      <td></td>\n",
       "    </tr>\n",
       "  </tbody>\n",
       "</table>\n",
       "<p>251701 rows × 2 columns</p>\n",
       "</div>"
      ],
      "text/plain": [
       "                                     0             1\n",
       "0        1479676_DICOM_20170813_122224  00000003.png\n",
       "1        1479676_DICOM_20170813_122224  00000004.png\n",
       "2        1479676_DICOM_20170813_122224  00000005.png\n",
       "3        1479676_DICOM_20170813_122224  00000006.png\n",
       "4        1479676_DICOM_20170813_122224  00000007.png\n",
       "...                                ...           ...\n",
       "251696    753267_DICOM_20190428_100750  00001087.png\n",
       "251697    753267_DICOM_20190428_100750  00001088.png\n",
       "251698    753267_DICOM_20190428_100750  00001089.png\n",
       "251699    753267_DICOM_20190428_100750  00001090.png\n",
       "251700                                              \n",
       "\n",
       "[251701 rows x 2 columns]"
      ]
     },
     "execution_count": 38,
     "metadata": {},
     "output_type": "execute_result"
    }
   ],
   "source": [
    "import sh\n",
    "import pandas as pd\n",
    "rows = sh.ls().split('\\n')\n",
    "data = [(\"_\".join(row.split('_')[:-1]), row.split('_')[-1]) for row in rows]\n",
    "files=pd.DataFrame(data)\n",
    "files"
   ]
  },
  {
   "cell_type": "code",
   "execution_count": 39,
   "id": "c0146b30-5651-4456-b98f-a860fe261177",
   "metadata": {},
   "outputs": [
    {
     "data": {
      "text/plain": [
       "0\n",
       "                                                                          1\n",
       " 1479676_DICOM_20170813_122224                                          413\n",
       " 1513209_DICOM_20191119_230211                                          633\n",
       " 1625662_DICOM_20191216_125714                                          374\n",
       " 2006527_DICOM_20190502_213435                                           88\n",
       "                                                                       ... \n",
       "'20210316-192129_2264503_BABAEE RAHMAN_DICOM_20170905_165909            410\n",
       "'20210316-192237_2265213_BAHARFAR^MOHAMADJAVAD_DICOM_20170907_200300    561\n",
       "'20210316-192405_2265735_KARIMI HOSEIN_DICOM_20170911_083303            422\n",
       "'20210316-192507_2035056_BAYAT^KHOSROU_DICOM_20170912_085943            505\n",
       "'20210316-192633_2265507_SHAMLOO^GHASEM_DICOM_20170913_082708           400\n",
       "Length: 465, dtype: int64"
      ]
     },
     "execution_count": 39,
     "metadata": {},
     "output_type": "execute_result"
    }
   ],
   "source": [
    "files.groupby([0]).size()"
   ]
  },
  {
   "cell_type": "code",
   "execution_count": 40,
   "id": "2c7f4be9-a7ef-461c-9bd9-626d3b143499",
   "metadata": {},
   "outputs": [
    {
     "data": {
      "text/html": [
       "<div>\n",
       "<style scoped>\n",
       "    .dataframe tbody tr th:only-of-type {\n",
       "        vertical-align: middle;\n",
       "    }\n",
       "\n",
       "    .dataframe tbody tr th {\n",
       "        vertical-align: top;\n",
       "    }\n",
       "\n",
       "    .dataframe thead th {\n",
       "        text-align: right;\n",
       "    }\n",
       "</style>\n",
       "<table border=\"1\" class=\"dataframe\">\n",
       "  <thead>\n",
       "    <tr style=\"text-align: right;\">\n",
       "      <th></th>\n",
       "      <th>1</th>\n",
       "    </tr>\n",
       "    <tr>\n",
       "      <th>0</th>\n",
       "      <th></th>\n",
       "    </tr>\n",
       "  </thead>\n",
       "  <tbody>\n",
       "    <tr>\n",
       "      <th>'20200909-143723_2584724_AKHAVAN^PARVANEH_DICOM_20191201_123325</th>\n",
       "      <td>2867</td>\n",
       "    </tr>\n",
       "    <tr>\n",
       "      <th>'20200909-142611_2579047_SAJADIYAN ABDALI_DICOM_20191127_084634</th>\n",
       "      <td>2456</td>\n",
       "    </tr>\n",
       "    <tr>\n",
       "      <th>'20200909-142256_2583018_BABAPOUR  LEILA_DICOM_20191126_125440</th>\n",
       "      <td>1489</td>\n",
       "    </tr>\n",
       "    <tr>\n",
       "      <th>'20210314-173258_2206628_KHODADADI^MAHNAZ_DICOM_20170501_230537</th>\n",
       "      <td>1307</td>\n",
       "    </tr>\n",
       "    <tr>\n",
       "      <th>'20201207-085657_2620698_TAHERI^HOSEIN_DICOM_20200228_121812</th>\n",
       "      <td>1219</td>\n",
       "    </tr>\n",
       "    <tr>\n",
       "      <th>...</th>\n",
       "      <td>...</td>\n",
       "    </tr>\n",
       "    <tr>\n",
       "      <th>2491485_DICOM_20190502_101319</th>\n",
       "      <td>130</td>\n",
       "    </tr>\n",
       "    <tr>\n",
       "      <th>'20200823-173449_2512706_EBADI OMID_DICOM_20191007_015758</th>\n",
       "      <td>100</td>\n",
       "    </tr>\n",
       "    <tr>\n",
       "      <th>2006527_DICOM_20190502_213435</th>\n",
       "      <td>88</td>\n",
       "    </tr>\n",
       "    <tr>\n",
       "      <th>'20201226-224302_2358439_HEYDARI HAJAR_DICOM_20180508_162017</th>\n",
       "      <td>43</td>\n",
       "    </tr>\n",
       "    <tr>\n",
       "      <th></th>\n",
       "      <td>1</td>\n",
       "    </tr>\n",
       "  </tbody>\n",
       "</table>\n",
       "<p>465 rows × 1 columns</p>\n",
       "</div>"
      ],
      "text/plain": [
       "                                                       1\n",
       "0                                                       \n",
       "'20200909-143723_2584724_AKHAVAN^PARVANEH_DICOM...  2867\n",
       "'20200909-142611_2579047_SAJADIYAN ABDALI_DICOM...  2456\n",
       "'20200909-142256_2583018_BABAPOUR  LEILA_DICOM_...  1489\n",
       "'20210314-173258_2206628_KHODADADI^MAHNAZ_DICOM...  1307\n",
       "'20201207-085657_2620698_TAHERI^HOSEIN_DICOM_20...  1219\n",
       "...                                                  ...\n",
       " 2491485_DICOM_20190502_101319                       130\n",
       "'20200823-173449_2512706_EBADI OMID_DICOM_20191...   100\n",
       " 2006527_DICOM_20190502_213435                        88\n",
       "'20201226-224302_2358439_HEYDARI HAJAR_DICOM_20...    43\n",
       "                                                       1\n",
       "\n",
       "[465 rows x 1 columns]"
      ]
     },
     "execution_count": 40,
     "metadata": {},
     "output_type": "execute_result"
    }
   ],
   "source": [
    "files.groupby([0]).count().sort_values(by=1,ascending=False)"
   ]
  },
  {
   "cell_type": "code",
   "execution_count": 42,
   "id": "6d3ea5c9-7b1b-4a75-94d0-a723c1f32da7",
   "metadata": {},
   "outputs": [
    {
     "data": {
      "text/plain": [
       "Text(0, 0.5, 'frequency')"
      ]
     },
     "execution_count": 42,
     "metadata": {},
     "output_type": "execute_result"
    },
    {
     "data": {
      "image/png": "[encoded data removed]",
      "text/plain": [
       "<Figure size 432x288 with 1 Axes>"
      ]
     },
     "metadata": {
      "needs_background": "light"
     },
     "output_type": "display_data"
    }
   ],
   "source": [
    "plt.hist(files.groupby([0]).size().values,bins=40,density=False,)\n",
    "plt.xlabel('number of images per patient')\n",
    "plt.ylabel('frequency')\n",
    "# تعداد تصویر به ازای هر مریض"
   ]
  },
  {
   "cell_type": "code",
   "execution_count": null,
   "id": "1d880aa4-6585-4e56-a063-937531798f00",
   "metadata": {},
   "outputs": [],
   "source": []
  },
  {
   "cell_type": "code",
   "execution_count": 110,
   "id": "783d1270-d6a7-4608-837e-a407e044eae6",
   "metadata": {},
   "outputs": [],
   "source": [
    "#!du -h --max-depth=1 | sort -n"
   ]
  },
  {
   "cell_type": "code",
   "execution_count": 46,
   "id": "7b14f8c3-8ef0-4d77-a605-afcbfaf6968c",
   "metadata": {},
   "outputs": [
    {
     "name": "stdout",
     "output_type": "stream",
     "text": [
      "/home/projects/Aneurysm/Data/brain_cta/output_folder/train/labels\n"
     ]
    }
   ],
   "source": [
    "cd /home/projects/Aneurysm/Data/brain_cta/output_folder/train/labels"
   ]
  },
  {
   "cell_type": "code",
   "execution_count": 47,
   "id": "9552006c-47d5-4d41-8fb9-7bdabb52638c",
   "metadata": {},
   "outputs": [],
   "source": [
    "from pathlib import Path\n",
    "from operator import itemgetter\n",
    "import sh\n",
    "\n",
    "# we want to understand how many images it takes to get to \n",
    "# maximum size for each patient after we have seen the first one. \n",
    "rows = sh.ls().split('\\n')\n",
    "\n",
    "previous_patient = ''\n",
    "previous_label = -1\n",
    "\n",
    "step_size = []\n",
    "step_distribution = []\n",
    "for row in rows:\n",
    "    path = Path(row)\n",
    "    if not path.is_file():\n",
    "        continue\n",
    "    \n",
    "    splitted = row.split('_')\n",
    "    current_patient = \"_\".join(splitted[:-1])\n",
    "    current_label = int(splitted[-1].replace('.txt',''))\n",
    "    \n",
    "    if previous_patient != current_patient or \\\n",
    "        current_label != previous_label + 1:\n",
    "        # we have new patient\n",
    "        # we should reset the statistics\n",
    "        if len(step_size)>0:\n",
    "            index, element = max(enumerate(step_size), key=itemgetter(1))\n",
    "            step_distribution.append(index)\n",
    "        \n",
    "        step_size = []\n",
    "        previous_label = current_label\n",
    "        previous_patient = current_patient\n",
    "        continue\n",
    "    \n",
    "    \n",
    "    width, height = Path(row).read_text().split(' ')[3:5]\n",
    "    size=float(width)*float(height)*512*512\n",
    "    step_size.append(size)\n",
    "    \n",
    "    previous_patient = current_patient\n",
    "    previous_label = current_label\n"
   ]
  },
  {
   "cell_type": "code",
   "execution_count": 50,
   "id": "f80551f3-bdea-4d94-972f-f08d05f83cb7",
   "metadata": {},
   "outputs": [
    {
     "data": {
      "text/plain": [
       "(array([31., 26., 15., 24.,  6.,  6.,  8.,  1.,  3.,  2.]),\n",
       " array([ 0. ,  2.6,  5.2,  7.8, 10.4, 13. , 15.6, 18.2, 20.8, 23.4, 26. ]),\n",
       " <BarContainer object of 10 artists>)"
      ]
     },
     "execution_count": 50,
     "metadata": {},
     "output_type": "execute_result"
    },
    {
     "data": {
      "image/png": "[encoded data removed]",
      "text/plain": [
       "<Figure size 432x288 with 1 Axes>"
      ]
     },
     "metadata": {
      "needs_background": "light"
     },
     "output_type": "display_data"
    }
   ],
   "source": [
    "import matplotlib.pyplot as plt\n",
    "plt.hist(step_distribution,bins=10)\n",
    "# منظور از فاصله تعداد عکسه\n",
    "# در چه فاصله ای از ناحیه های مستطیلی به بیشترین سایز میرسیم"
   ]
  },
  {
   "cell_type": "code",
   "execution_count": 18,
   "id": "41e1be29-a41e-4a0e-9f5d-ab8c6fb10e05",
   "metadata": {},
   "outputs": [],
   "source": [
    "from pathlib import Path\n",
    "from operator import itemgetter\n",
    "import sh\n",
    "\n",
    "# we want to understand how many images it takes to get to \n",
    "# threshold size 100 for each patient after we have seen the first one. \n",
    "rows = sh.ls().split('\\n')\n",
    "\n",
    "previous_patient = ''\n",
    "previous_label = -1\n",
    "\n",
    "step_size = []\n",
    "step_distribution = []\n",
    "for row in rows:\n",
    "    path = Path(row)\n",
    "    if not path.is_file():\n",
    "        continue\n",
    "    \n",
    "    splitted = row.split('_')\n",
    "    current_patient = \"_\".join(splitted[:-1])\n",
    "    current_label = int(splitted[-1].replace('.txt',''))\n",
    "    \n",
    "    if previous_patient != current_patient or \\\n",
    "        current_label != previous_label + 1:\n",
    "        # we have new patient\n",
    "        # we should reset the statistics\n",
    "        if len(step_size)>0:\n",
    "            for index, item in enumerate(step_size):\n",
    "                if item >= 100:\n",
    "                    step_distribution.append(index)\n",
    "                    break\n",
    "        \n",
    "        step_size = []\n",
    "        previous_label = current_label\n",
    "        previous_patient = current_patient\n",
    "        continue\n",
    "    \n",
    "    \n",
    "    width, height = Path(row).read_text().split(' ')[3:5]\n",
    "    size=float(width)*float(height)*512*512\n",
    "    step_size.append(size)\n",
    "    \n",
    "    previous_patient = current_patient\n",
    "    previous_label = current_label\n"
   ]
  },
  {
   "cell_type": "code",
   "execution_count": 21,
   "id": "1878c64e-34d2-413f-942d-4f79878a7fdf",
   "metadata": {},
   "outputs": [
    {
     "data": {
      "text/plain": [
       "(array([0.49418605, 0.10658915, 0.05813953, 0.03875969, 0.04844961,\n",
       "        0.05813953, 0.00968992, 0.00968992, 0.        , 0.00968992]),\n",
       " array([ 0. ,  1.2,  2.4,  3.6,  4.8,  6. ,  7.2,  8.4,  9.6, 10.8, 12. ]),\n",
       " <BarContainer object of 10 artists>)"
      ]
     },
     "execution_count": 21,
     "metadata": {},
     "output_type": "execute_result"
    },
    {
     "data": {
      "image/png": "[encoded data removed]",
      "text/plain": [
       "<Figure size 432x288 with 1 Axes>"
      ]
     },
     "metadata": {
      "needs_background": "light"
     },
     "output_type": "display_data"
    }
   ],
   "source": [
    "import matplotlib.pyplot as plt\n",
    "plt.hist(step_distribution,bins=10,density=True)\n",
    "# در چه فاصله ای از ناحیه های مستطیلی به حداقل سایزی که بتونیم تشخیص بدیم (مساحت ۱۰۰ ) میرسیم. "
   ]
  },
  {
   "cell_type": "code",
   "execution_count": 51,
   "id": "10246c50-087e-400a-b51e-731ce6ff705e",
   "metadata": {},
   "outputs": [],
   "source": [
    "# حال برامون سواله در چه فاصله ای بصورت میلی متری به اون اسلایسی میرسیم که احتمال وجود داده با لیبل خوب افزایش پیدا میکنه"
   ]
  },
  {
   "cell_type": "code",
   "execution_count": 52,
   "id": "34bd6d08-2dd3-4a8f-902d-7ea128d90612",
   "metadata": {},
   "outputs": [],
   "source": [
    "# به ازای هر مریض چند سری عکس داریم؟ سری یعنی \n",
    "# Series"
   ]
  },
  {
   "cell_type": "code",
   "execution_count": null,
   "id": "8538b604-f618-499f-9b72-6cc3c04d1737",
   "metadata": {},
   "outputs": [],
   "source": []
  }
 ],
 "metadata": {
  "kernelspec": {
   "display_name": "jupyterlab",
   "language": "python",
   "name": "jupyterlab"
  },
  "language_info": {
   "codemirror_mode": {
    "name": "ipython",
    "version": 3
   },
   "file_extension": ".py",
   "mimetype": "text/x-python",
   "name": "python",
   "nbconvert_exporter": "python",
   "pygments_lexer": "ipython3",
   "version": "3.8.13"
  }
 },
 "nbformat": 4,
 "nbformat_minor": 5
}
