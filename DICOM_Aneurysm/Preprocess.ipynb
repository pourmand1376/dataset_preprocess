{
 "cells": [
  {
   "cell_type": "code",
   "execution_count": 4,
   "id": "7f32044c-e435-4e88-bbea-791fe00a348c",
   "metadata": {},
   "outputs": [
    {
     "name": "stdout",
     "output_type": "stream",
     "text": [
      "Requirement already satisfied: pydicom in /home/amir/miniconda3/envs/venv-ctscan/lib/python3.10/site-packages (2.3.0)\n",
      "Collecting imageio\n",
      "  Downloading imageio-2.19.3-py3-none-any.whl (3.4 MB)\n",
      "\u001b[2K     \u001b[38;2;114;156;31m━━━━━━━━━━━━━━━━━━━━━━━━━━━━━━━━━━━━━━━━\u001b[0m \u001b[32m3.4/3.4 MB\u001b[0m \u001b[31m352.6 kB/s\u001b[0m eta \u001b[36m0:00:00\u001b[0mm eta \u001b[36m0:00:01\u001b[0m[36m0:00:01\u001b[0m\n",
      "\u001b[?25hRequirement already satisfied: numpy in /home/amir/miniconda3/envs/venv-ctscan/lib/python3.10/site-packages (from imageio) (1.22.4)\n",
      "Collecting pillow>=8.3.2\n",
      "  Downloading Pillow-9.1.1-cp310-cp310-manylinux_2_17_x86_64.manylinux2014_x86_64.whl (3.1 MB)\n",
      "\u001b[2K     \u001b[38;2;114;156;31m━━━━━━━━━━━━━━━━━━━━━━━━━━━━━━━━━━━━━━━━\u001b[0m \u001b[32m3.1/3.1 MB\u001b[0m \u001b[31m461.6 kB/s\u001b[0m eta \u001b[36m0:00:00\u001b[0mm eta \u001b[36m0:00:01\u001b[0m[36m0:00:01\u001b[0m\n",
      "\u001b[?25hInstalling collected packages: pillow, imageio\n",
      "Successfully installed imageio-2.19.3 pillow-9.1.1\n"
     ]
    }
   ],
   "source": [
    "!pip install pydicom\n",
    "!pip install imageio"
   ]
  },
  {
   "cell_type": "code",
   "execution_count": 8,
   "id": "15fd7e29-3a5c-4703-9464-6c16267663ca",
   "metadata": {},
   "outputs": [],
   "source": [
    "# conda install numpy -y\n",
    "# conda install pandas -y\n",
    "# conda install -c conda-forge opencv"
   ]
  },
  {
   "cell_type": "code",
   "execution_count": null,
   "id": "0d307dec-353b-4f09-9bb8-f43d515dd559",
   "metadata": {},
   "outputs": [],
   "source": [
    "!python print_dcm_img.py '/mnt/external_1TB/Dataset/Anevrism/01/337325/20200815-173226_337325_BAKHTYARI MAESOOMEH/DICOM/20190706/113904' \\\n",
    "'/mnt/external_1TB/Dataset/Anevrism/01/337325/20200815-173226_337325_BAKHTYARI MAESOOMEH/DICOM/20190706/save_png/'"
   ]
  },
  {
   "cell_type": "code",
   "execution_count": 16,
   "id": "399540f9-e264-4b52-b5d2-38a094d19fd3",
   "metadata": {},
   "outputs": [],
   "source": [
    "!python print_dcm_header.py -i '/mnt/external_1TB/Dataset/Anevrism/01/337325/20200815-173226_337325_BAKHTYARI MAESOOMEH/DICOM/20190706/113904/00000006'"
   ]
  },
  {
   "cell_type": "code",
   "execution_count": null,
   "id": "3c2d8da0-dedc-4b6c-b2e5-d25ba46c9ae3",
   "metadata": {},
   "outputs": [],
   "source": [
    "!python print_dcm_header.py -i $(find /mnt/external_1TB/Dataset/Anevrism/marked/337325/DICOM/20190706/113904)"
   ]
  },
  {
   "cell_type": "code",
   "execution_count": null,
   "id": "90f09d70-e724-441d-9473-def19838c47e",
   "metadata": {},
   "outputs": [],
   "source": [
    "!python print_dcm_header.py -i $(find /mnt/external_1TB/Dataset/Anevrism/NL/47338/20201201-085200_47338_ABBASI\\ REZA/DICOM/20200222/105359/)"
   ]
  },
  {
   "cell_type": "code",
   "execution_count": null,
   "id": "26c75906-6b8f-4b00-ada3-780322282a7d",
   "metadata": {},
   "outputs": [],
   "source": [
    "# find /mnt/external_1TB/Dataset/Anevrism/NL/47338/20201201-085200_47338_ABBASI\\ REZA/DICOM/20200222/105359/"
   ]
  },
  {
   "cell_type": "code",
   "execution_count": 20,
   "id": "2806457d-290c-49e4-9865-36dfcfa967af",
   "metadata": {},
   "outputs": [],
   "source": [
    "## Remove space for current files in current folder\n",
    "# for f in *\\ *; do mv \"$f\" \"${f// /_}\"; done"
   ]
  },
  {
   "cell_type": "code",
   "execution_count": null,
   "id": "0631cd5e-3df9-401f-8778-92ec2d0c8e66",
   "metadata": {},
   "outputs": [],
   "source": []
  }
 ],
 "metadata": {
  "kernelspec": {
   "display_name": "venv-ctscan",
   "language": "python",
   "name": "venv-ctscan"
  },
  "language_info": {
   "codemirror_mode": {
    "name": "ipython",
    "version": 3
   },
   "file_extension": ".py",
   "mimetype": "text/x-python",
   "name": "python",
   "nbconvert_exporter": "python",
   "pygments_lexer": "ipython3",
   "version": "3.9.13"
  }
 },
 "nbformat": 4,
 "nbformat_minor": 5
}
